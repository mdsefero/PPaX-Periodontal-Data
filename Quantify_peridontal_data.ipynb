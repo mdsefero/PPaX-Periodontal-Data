{
 "cells": [
  {
   "cell_type": "code",
   "execution_count": 1,
   "id": "d3cb17f7-2ac0-4cdc-a0a5-5504848ec7cf",
   "metadata": {},
   "outputs": [],
   "source": [
    "import pandas as pd"
   ]
  },
  {
   "cell_type": "code",
   "execution_count": 2,
   "id": "4941791e-4715-47d7-8eab-7b18f2abe2cd",
   "metadata": {},
   "outputs": [],
   "source": [
    "def open_df(file): \n",
    "    #file_path = '/mnt/e/Box Sync/Baylor/Projects/Xylitol/Data From Katie 12 Jan 2022/PPAX FINAL DATABASE.xlsx' # unhash for unix for windows subsystem\n",
    "    file_path = \"E:\\Box Sync\\Baylor\\Projects\\Xylitol\\Data From Katie 12 Jan 2022\\\\\"\n",
    "    df = pd.read_csv(file_path + file, index_col=\"ID\")\n",
    "    df = df.apply(pd.to_numeric, errors='coerce')\n",
    "    return file_path, df"
   ]
  },
  {
   "cell_type": "code",
   "execution_count": 3,
   "id": "0c0c2154-83a3-456c-ac6f-e05ac997530d",
   "metadata": {},
   "outputs": [],
   "source": [
    "def save_df(df, file, file_path): \n",
    "    savename = file_path + file[:-4] + \"_quant.csv\"\n",
    "    df.to_csv(savename)"
   ]
  },
  {
   "cell_type": "raw",
   "id": "5213d55f-8bf8-4726-ac73-f3d5ae3041a2",
   "metadata": {},
   "source": [
    "Reviewer point (i) \n",
    "% of bleeding gingival units per person, coded as follows\r",
    "\r\n",
    "Periodontal Status, Bleeding Tooth\r\n",
    "0 = Absence of condition (No Bleeding)\r\n",
    "1 = Presence of condition (Bleeding)\r\n",
    "2 = Tooth excluded\r\n",
    "3 = Tooth not present\r\n",
    "“.” = unknown"
   ]
  },
  {
   "cell_type": "code",
   "execution_count": 4,
   "id": "1bf72a54-2b33-49a1-9dee-9f5ee185e50e",
   "metadata": {},
   "outputs": [],
   "source": [
    "def quant_bleeding (): \n",
    "    \n",
    "    def calculate_average(row):\n",
    "        count = 0\n",
    "        total = 0\n",
    "        for value in row:\n",
    "            if value == 0 or value == 1:\n",
    "                total += value\n",
    "                count += 1\n",
    "        if count == 0:\n",
    "            return 0\n",
    "        return total / count * 100\n",
    "\n",
    "    files = ('bleeding_V0.csv', 'bleeding_V1.csv')\n",
    "    for file in files: \n",
    "        file_path, df = open_df (file)          \n",
    "        # Apply the function to each row\n",
    "        df['% of bleeding gingiva/teeth per person'] = df.apply(calculate_average, axis=1)\n",
    "        save_df (df, file, file_path)\n",
    "        "
   ]
  },
  {
   "cell_type": "raw",
   "id": "e5c17daa-5c19-42d9-b53e-e03041848784",
   "metadata": {},
   "source": [
    "Reviewer point (ii) \n",
    "% of pockets/person at different probing depth levels (e.g. <4 mm, 5-6 mm, >6 mm)\n",
    "\n",
    "Periodontal Status, Pocket\n",
    "0 = Absence of condition\n",
    "1 = Pocket 4-5 mm\n",
    "2 = Pocket 6 mm or more\n",
    "3 = Tooth excluded\n",
    "4 = Tooth not present\n",
    "“.” = Unknown"
   ]
  },
  {
   "cell_type": "code",
   "execution_count": 5,
   "id": "055411a8-199a-4809-857d-209e8319cd3b",
   "metadata": {},
   "outputs": [],
   "source": [
    "def dict_pockets (df):\n",
    "    translation ={\n",
    "            'Average_0': '% teeth pockets absent',\n",
    "            'Average_1': '% teeth pockets 4-5 mm',\n",
    "            'Average_2': '% teeth pockets >6 mm'\n",
    "             }\n",
    "    df.rename(columns=translation, inplace=True)\n",
    "    return df\n",
    "\n",
    "    \n",
    "def quant_pocket (): \n",
    "    files = ('pocket_depth_V0.csv', 'pocket_depth_V1.csv')\n",
    "    for file in files: \n",
    "        file_path, df = open_df (file)    \n",
    "    \n",
    "        for value in [0, 1, 2]:\n",
    "            average_column_name = f'Average_{value}'\n",
    "            row_ratios = (df == value).sum(axis=1) / df.notna().sum(axis=1) * 100\n",
    "            df[average_column_name] = row_ratios\n",
    "            \n",
    "        df = dict_pockets (df)\n",
    "        save_df (df, file, file_path)"
   ]
  },
  {
   "cell_type": "raw",
   "id": "3be88d9c-84ff-4a75-9c7c-dfc317af5114",
   "metadata": {},
   "source": [
    "Reviewer point (iii) \n",
    "% sites/person with clinical attachment level of ≤ 2mm, 3-4 mm, > 6 mm)\n",
    "\n",
    "Index Teeth, Loss of Attachment\r\n",
    "0 = 0-3 mm\r\n",
    "1 = 4-5 mm\r\n",
    "2 = 6-8 mm\r\n",
    "3 = 9-11 mm\r\n",
    "4 = 12 mm or more\r\n",
    "5 = Excluded sextant\r\n",
    "6 = Not recorded\r\n",
    "“.” =Unknown\r\n"
   ]
  },
  {
   "cell_type": "code",
   "execution_count": 6,
   "id": "ed2e0906-2d26-4228-ae18-e19dfc312df4",
   "metadata": {},
   "outputs": [],
   "source": [
    "def dict_attachment_loss(df):\n",
    "    translation ={\n",
    "            'Average_0': '% index teeth attachment loss <3 mm',\n",
    "            'Average_1': '% index teeth attachment loss 4-5 mm',\n",
    "            'Average_2': '% index teeth attachment loss 6-8 mm',\n",
    "            'Average_3': '% index teeth attachment loss 9-11 mm',\n",
    "            'Average_4': '% index teeth attachment loss >12 mm'\n",
    "             }\n",
    "    df.rename(columns=translation, inplace=True)\n",
    "    return df\n",
    "\n",
    "    \n",
    "def quant_attachment_loss (): \n",
    "    files = ('attachment_loss_V0.csv', 'attachment_loss_V1.csv')\n",
    "    for file in files: \n",
    "        file_path, df = open_df (file)    \n",
    "\n",
    "        for value in [0, 1, 2, 3, 4]:\n",
    "            average_column_name = f'Average_{value}'\n",
    "            row_ratios = (df == value).sum(axis=1) / df.notna().sum(axis=1) * 100\n",
    "            df[average_column_name] = row_ratios\n",
    "\n",
    "        df = dict_attachment_loss(df)\n",
    "        save_df (df, file, file_path)"
   ]
  },
  {
   "cell_type": "code",
   "execution_count": 7,
   "id": "a6cdca94-fc36-469a-9906-26b47cccbe56",
   "metadata": {},
   "outputs": [],
   "source": [
    "quant_bleeding ()     \n",
    "quant_pocket ()\n",
    "quant_attachment_loss ()"
   ]
  }
 ],
 "metadata": {
  "kernelspec": {
   "display_name": "Python 3 (ipykernel)",
   "language": "python",
   "name": "python3"
  },
  "language_info": {
   "codemirror_mode": {
    "name": "ipython",
    "version": 3
   },
   "file_extension": ".py",
   "mimetype": "text/x-python",
   "name": "python",
   "nbconvert_exporter": "python",
   "pygments_lexer": "ipython3",
   "version": "3.8.16"
  }
 },
 "nbformat": 4,
 "nbformat_minor": 5
}
