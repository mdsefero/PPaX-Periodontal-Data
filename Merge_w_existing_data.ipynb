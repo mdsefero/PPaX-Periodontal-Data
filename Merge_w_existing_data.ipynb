{
 "cells": [
  {
   "cell_type": "code",
   "execution_count": 1,
   "id": "d4b451e1-02a1-4044-bb49-04f83b1532b1",
   "metadata": {},
   "outputs": [],
   "source": [
    "import pandas as pd"
   ]
  },
  {
   "cell_type": "code",
   "execution_count": 2,
   "id": "30885588-89eb-4c47-8ca2-dc828a446ef8",
   "metadata": {},
   "outputs": [],
   "source": [
    "def open_file (name, site_mergedID): \n",
    "    file_path = \"E:\\Box Sync\\Baylor\\Projects\\Xylitol\\Data From Katie 12 Jan 2022\\\\\"\n",
    "    df = pd.read_csv(file_path + name)\n",
    "    if site_mergedID != True: \n",
    "        df['Site_ID'] = df['Site'].astype(str) + \"_\" + df['ID'].astype(str)\n",
    "    df.set_index('Site_ID', inplace=True)\n",
    "    return df, file_path"
   ]
  },
  {
   "cell_type": "code",
   "execution_count": 3,
   "id": "3c531641-b039-4b76-84e1-d28c4a43f511",
   "metadata": {},
   "outputs": [],
   "source": [
    "def load_and_visits_for_revier_variables (): \n",
    "    dfv0, file_path = open_file ('Periodontal_data_per_rev_out_V0.csv', True)\n",
    "    dfv1, file_path = open_file ('Periodontal_data_per_rev_out_V1.csv', True)\n",
    "    \n",
    "    if dfv0.index.duplicated().any():\n",
    "        print(\"dfv0 has duplicate indices.\")\n",
    "    if dfv1.index.duplicated().any():\n",
    "        print(\"dfv1 has duplicate indices.\")\n",
    "        \n",
    "    # ensure the lengths are identical\n",
    "    if len(dfv0) != len(dfv1):\n",
    "        print(\"The lengths of the two CSV files are not identical.\")\n",
    "    else:\n",
    "         combined_df = pd.concat([dfv0, dfv1], axis=1)\n",
    "        \n",
    "    return combined_df"
   ]
  },
  {
   "cell_type": "code",
   "execution_count": 4,
   "id": "095d9874-7560-45ef-a63e-79758e783ff3",
   "metadata": {},
   "outputs": [],
   "source": [
    "def add_newdata_to_old (dfnew): \n",
    "\n",
    "    dfold, file_path = open_file('dental_final4.csv', False)  \n",
    "    # Check for duplicate indices\n",
    "    if dfold.index.duplicated().any():\n",
    "        print(\"dfold has duplicate indices.\")\n",
    "    if dfnew.index.duplicated().any():\n",
    "        print(\"dfnew has duplicate indices.\")\n",
    "\n",
    "    matched_df = pd.merge(dfold, dfnew, left_index=True, right_index=True, how='inner')\n",
    "    matched_df.to_csv(file_path + 'complete_periodontal_data.csv')"
   ]
  },
  {
   "cell_type": "code",
   "execution_count": 5,
   "id": "5b24e0ce-3ab9-487a-82ef-6d1a8ce1ce8b",
   "metadata": {},
   "outputs": [],
   "source": [
    "def main(): \n",
    "    dfnew = load_and_visits_for_revier_variables ()\n",
    "    add_newdata_to_old (dfnew)"
   ]
  },
  {
   "cell_type": "code",
   "execution_count": 6,
   "id": "5815e15f-c51c-46d9-a1c8-5edfc836b3ef",
   "metadata": {},
   "outputs": [],
   "source": [
    "if __name__ == '__main__': \n",
    "    main()"
   ]
  }
 ],
 "metadata": {
  "kernelspec": {
   "display_name": "Python 3 (ipykernel)",
   "language": "python",
   "name": "python3"
  },
  "language_info": {
   "codemirror_mode": {
    "name": "ipython",
    "version": 3
   },
   "file_extension": ".py",
   "mimetype": "text/x-python",
   "name": "python",
   "nbconvert_exporter": "python",
   "pygments_lexer": "ipython3",
   "version": "3.8.16"
  }
 },
 "nbformat": 4,
 "nbformat_minor": 5
}
