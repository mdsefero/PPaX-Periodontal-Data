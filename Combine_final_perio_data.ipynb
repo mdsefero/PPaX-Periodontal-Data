{
 "cells": [
  {
   "cell_type": "code",
   "execution_count": 1,
   "id": "726a36aa-ba48-45fa-8501-4881c8b4d471",
   "metadata": {},
   "outputs": [],
   "source": [
    "import pandas as pd"
   ]
  },
  {
   "cell_type": "code",
   "execution_count": 2,
   "id": "435c4f71-1704-4eb3-ba4e-0be40972179e",
   "metadata": {},
   "outputs": [],
   "source": [
    "def open_df(filename): \n",
    "    df = pd.read_csv(filename, index_col=0)\n",
    "    #df = df.reset_index()  # Reset index to numeric sequence\n",
    "    return df"
   ]
  },
  {
   "cell_type": "code",
   "execution_count": 3,
   "id": "914bfaf6-ccec-4aa6-ad19-88b7d3051b99",
   "metadata": {},
   "outputs": [],
   "source": [
    "def save_df(visit, df, file_path): \n",
    "    savename = file_path + \"Periodontal_data_per_rev_out\" + visit + \".csv\"\n",
    "    df.to_csv(savename)"
   ]
  },
  {
   "cell_type": "code",
   "execution_count": 4,
   "id": "0d01128a-78ac-44a6-bd1b-2fbdb4d73474",
   "metadata": {},
   "outputs": [],
   "source": [
    "def extract (df): \n",
    "    columns =[\n",
    "            '% teeth pockets absent',\n",
    "            '% teeth pockets 4-5 mm',\n",
    "            '% teeth pockets >6 mm',\n",
    "            '% index teeth attachment loss <3 mm',\n",
    "            '% index teeth attachment loss 4-5 mm',\n",
    "            '% index teeth attachment loss 6-8 mm',\n",
    "            '% index teeth attachment loss 9-11 mm',\n",
    "            '% index teeth attachment loss >12 mm',\n",
    "            '% of bleeding gingiva/teeth per person'\n",
    "            ]\n",
    "\n",
    "    existing_columns = [col for col in columns if col in df.columns]\n",
    "    subset_df = df[existing_columns].copy()\n",
    "    return subset_df"
   ]
  },
  {
   "cell_type": "code",
   "execution_count": 5,
   "id": "60c8e3b8-293f-47e5-aabe-432efb1cf66c",
   "metadata": {},
   "outputs": [],
   "source": [
    "def main ():\n",
    "    #file_path = '/mnt/e/Box Sync/Baylor/Projects/Xylitol/Data From Katie 12 Jan 2022/PPAX FINAL DATABASE.xlsx' # unhash for unix for windows subsystem\n",
    "    file_path = \"E:\\Box Sync\\Baylor\\Projects\\Xylitol\\Data From Katie 12 Jan 2022\\\\\"\n",
    "    visits = ('_V0', '_V1') \n",
    "    measures = (\n",
    "            'bleeding', \n",
    "            'pocket_depth', \n",
    "            'attachment_loss'\n",
    "            )\n",
    "\n",
    "    for visit in visits: \n",
    "        out_df = None\n",
    "        for measure in measures:\n",
    "            filename = file_path + measure + visit + \"_quant.csv\"\n",
    "            df = open_df (filename)\n",
    "            extracted_df = extract (df)\n",
    "            if out_df is None:  # If out_df is None, assign the first DataFrame\n",
    "                out_df = extracted_df\n",
    "            else:  # Otherwise, concatenate along columns based on index\n",
    "                out_df = pd.concat([out_df, extracted_df], axis=1)\n",
    "        save_df (visit, out_df, file_path)\n",
    "\n"
   ]
  },
  {
   "cell_type": "code",
   "execution_count": 6,
   "id": "fa9f5fee-be04-4dd9-bced-1139438db0e3",
   "metadata": {},
   "outputs": [],
   "source": [
    "if __name__ == '__main__': \n",
    "    main()"
   ]
  }
 ],
 "metadata": {
  "kernelspec": {
   "display_name": "Python 3 (ipykernel)",
   "language": "python",
   "name": "python3"
  },
  "language_info": {
   "codemirror_mode": {
    "name": "ipython",
    "version": 3
   },
   "file_extension": ".py",
   "mimetype": "text/x-python",
   "name": "python",
   "nbconvert_exporter": "python",
   "pygments_lexer": "ipython3",
   "version": "3.8.16"
  }
 },
 "nbformat": 4,
 "nbformat_minor": 5
}
