{
 "cells": [
  {
   "cell_type": "markdown",
   "id": "1b69678c-3a09-483e-ba67-15ea2aeb904c",
   "metadata": {},
   "source": [
    "!pip install openpyxl"
   ]
  },
  {
   "cell_type": "code",
   "execution_count": 1,
   "id": "0c2e5341-a5f5-4e11-8a15-b97f0db12c6d",
   "metadata": {},
   "outputs": [],
   "source": [
    "#Retrieves peiodontal data of interest from a database of dental information for PPAX trial study \n",
    "\n",
    "import pandas as pd"
   ]
  },
  {
   "cell_type": "code",
   "execution_count": 2,
   "id": "805922b8-7581-4162-b827-9642bd68a8f4",
   "metadata": {},
   "outputs": [],
   "source": [
    "def open_df(): \n",
    "    #file_path = '/mnt/e/Box Sync/Baylor/Projects/Xylitol/Data From Katie 12 Jan 2022/PPAX FINAL DATABASE.xlsx' # unhash for unix for windows subsystem\n",
    "    file_path = \"E:\\Box Sync\\Baylor\\Projects\\Xylitol\\Data From Katie 12 Jan 2022\\\\\"\n",
    "    file = \"PPAX FINAL DATABASE.xlsx\"\n",
    "    df = pd.read_excel(file_path + file)\n",
    "   # Combine the first two columns into a new column - IDs are dupilcated by site\n",
    "    df['Site_ID'] = df.iloc[:, 0].astype(str) + \"_\" + df.iloc[:, 1].astype(str)\n",
    "    df.set_index('Site_ID', inplace=True)\n",
    "    return file_path, df "
   ]
  },
  {
   "cell_type": "code",
   "execution_count": 3,
   "id": "dbe15164-13ff-4576-abcd-d456fe4dea6e",
   "metadata": {},
   "outputs": [],
   "source": [
    "def get_columns(): \n",
    "             \n",
    "    def get_names (start, visits):\n",
    "        data = {}\n",
    "        teeth = (18,17,16,15,14,13,12,11,21,22,23,24,25,26,27,28,48,47,46,45,44,43,42,41,31,32,33,34,35,36,37,38)\n",
    "        for v in visits:\n",
    "            columns = []\n",
    "            for i in teeth: \n",
    "                columns.append(start + str(i) + v)\n",
    "            data[v] = columns\n",
    "        return data\n",
    "    \n",
    "    visits = ['_V0', '_V1']\n",
    "    bleeding = get_names('B', visits)\n",
    "    pocket_depth = get_names('P', visits)\n",
    "    \n",
    "    attachment_loss = {}\n",
    "    attachment_loss_start = ('Index1716', 'Index11', 'Index2627', 'Index4746', 'Index31', 'Index3637')  \n",
    "    for v in visits:\n",
    "        columns = []\n",
    "        for i in attachment_loss_start: \n",
    "            columns.append(i + v)\n",
    "        attachment_loss [v] = columns\n",
    "\n",
    "    return bleeding, pocket_depth, attachment_loss"
   ]
  },
  {
   "cell_type": "code",
   "execution_count": 4,
   "id": "76d9bfc1-57d5-483b-bf32-902689728510",
   "metadata": {},
   "outputs": [],
   "source": [
    "def get_data (df, dict_of_columns_of_interest, name, file_path): \n",
    "    for v, columns_of_interest in dict_of_columns_of_interest.items(): \n",
    "        #out_df = df[['Site'] + columns_of_interest]\n",
    "        out_df = df[columns_of_interest]\n",
    "        savename = file_path + name + v + '.csv'\n",
    "        out_df.to_csv(savename)"
   ]
  },
  {
   "cell_type": "code",
   "execution_count": 5,
   "id": "2fb60100-524b-441d-860e-83a4f257d0de",
   "metadata": {},
   "outputs": [],
   "source": [
    "file_path, df = open_df()"
   ]
  },
  {
   "cell_type": "code",
   "execution_count": 6,
   "id": "aedd59e3-0862-4c84-b005-de8465009894",
   "metadata": {},
   "outputs": [],
   "source": [
    "bleeding, pocket_depth, attachment_loss = get_columns()"
   ]
  },
  {
   "cell_type": "code",
   "execution_count": 7,
   "id": "9b7acde9-809c-4f61-86bd-c957c632653c",
   "metadata": {},
   "outputs": [],
   "source": [
    "get_data (df, pocket_depth, 'pocket_depth', file_path)\n",
    "get_data (df, attachment_loss, 'attachment_loss', file_path)\n",
    "get_data (df, bleeding, 'bleeding', file_path)"
   ]
  },
  {
   "cell_type": "code",
   "execution_count": null,
   "id": "70b383b6-6366-42b2-ac41-3526a9308969",
   "metadata": {},
   "outputs": [],
   "source": []
  }
 ],
 "metadata": {
  "kernelspec": {
   "display_name": "Python 3 (ipykernel)",
   "language": "python",
   "name": "python3"
  },
  "language_info": {
   "codemirror_mode": {
    "name": "ipython",
    "version": 3
   },
   "file_extension": ".py",
   "mimetype": "text/x-python",
   "name": "python",
   "nbconvert_exporter": "python",
   "pygments_lexer": "ipython3",
   "version": "3.8.16"
  }
 },
 "nbformat": 4,
 "nbformat_minor": 5
}
