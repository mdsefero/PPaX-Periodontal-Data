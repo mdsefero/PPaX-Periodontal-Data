{
 "cells": [
  {
   "cell_type": "code",
   "execution_count": 1,
   "id": "151563d1-8222-424c-b212-b688cae5cbd6",
   "metadata": {},
   "outputs": [],
   "source": [
    "import pandas as pd\n",
    "import numpy as np"
   ]
  },
  {
   "cell_type": "code",
   "execution_count": 2,
   "id": "f19f352d-229e-4bfa-b337-240ee6b0842f",
   "metadata": {},
   "outputs": [],
   "source": [
    "def open_file (): \n",
    "    file_path = \"E:\\Box Sync\\Baylor\\Projects\\Xylitol\\Data From Katie 12 Jan 2022\\\\\"\n",
    "    df = pd.read_csv(file_path + 'complete_periodontal_data.csv')\n",
    "    return df, file_path"
   ]
  },
  {
   "cell_type": "code",
   "execution_count": 3,
   "id": "0426ad52-6a13-4d59-82e5-5c8906e98bea",
   "metadata": {},
   "outputs": [],
   "source": [
    "def save_file(file_path, df):  \n",
    "    df.to_csv(file_path + 'complete_periodontal_data_dichotomized.csv')"
   ]
  },
  {
   "cell_type": "code",
   "execution_count": 4,
   "id": "e5760468-7db8-4be9-bd66-8fca4af7f27a",
   "metadata": {},
   "outputs": [],
   "source": [
    "def process_columns (df): \n",
    "    percent_columns = [col for col in df.columns if col.startswith('%')]\n",
    "    # meat of script here. \n",
    "    for col in percent_columns:\n",
    "        new_col = col.replace('%', 'di')\n",
    "        df[new_col] = df[col].apply(lambda x: 1 if x > 0 else (0 if x == 0 else np.nan))\n",
    "    return df"
   ]
  },
  {
   "cell_type": "code",
   "execution_count": 5,
   "id": "361c94d0-e6ef-4945-80ce-fccebf2f2836",
   "metadata": {},
   "outputs": [],
   "source": [
    "df, file_path = open_file()\n",
    "df = process_columns (df)\n",
    "save_file (file_path, df)"
   ]
  }
 ],
 "metadata": {
  "kernelspec": {
   "display_name": "Python 3 (ipykernel)",
   "language": "python",
   "name": "python3"
  },
  "language_info": {
   "codemirror_mode": {
    "name": "ipython",
    "version": 3
   },
   "file_extension": ".py",
   "mimetype": "text/x-python",
   "name": "python",
   "nbconvert_exporter": "python",
   "pygments_lexer": "ipython3",
   "version": "3.8.16"
  }
 },
 "nbformat": 4,
 "nbformat_minor": 5
}
